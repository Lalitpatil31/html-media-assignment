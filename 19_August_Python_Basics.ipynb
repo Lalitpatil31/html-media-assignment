{
 "cells": [
  {
   "cell_type": "code",
   "execution_count": 20,
   "id": "b6b24727-1b5f-4b4a-815d-180642f61b55",
   "metadata": {},
   "outputs": [
    {
     "data": {
      "text/plain": [
       "'TOPIC: Python Basics Variable\\nQ-1:1. Declare two variables, `x` and `y`, and assign them integer values.\\nSwap the values of these variables without using any temporary variable.'"
      ]
     },
     "execution_count": 20,
     "metadata": {},
     "output_type": "execute_result"
    }
   ],
   "source": [
    "'''TOPIC: Python Basics Variable\n",
    "Q-1:1. Declare two variables, `x` and `y`, and assign them integer values.\n",
    "Swap the values of these variables without using any temporary variable.'''"
   ]
  },
  {
   "cell_type": "code",
   "execution_count": 82,
   "id": "7ba7d7ec-9149-4da6-9947-b60fb0fd7421",
   "metadata": {},
   "outputs": [
    {
     "name": "stdin",
     "output_type": "stream",
     "text": [
      " 4\n"
     ]
    }
   ],
   "source": [
    "#here we define input value as an float in x and y\n",
    "x= float(input())"
   ]
  },
  {
   "cell_type": "code",
   "execution_count": 85,
   "id": "496482a7-020d-46dc-b122-8a81890b63db",
   "metadata": {},
   "outputs": [
    {
     "name": "stdin",
     "output_type": "stream",
     "text": [
      " 5\n"
     ]
    }
   ],
   "source": [
    "y=float(input())"
   ]
  },
  {
   "cell_type": "code",
   "execution_count": 86,
   "id": "2cf01d15-4640-475b-a492-b9f49b8649f9",
   "metadata": {},
   "outputs": [
    {
     "data": {
      "text/plain": [
       "9.0"
      ]
     },
     "execution_count": 86,
     "metadata": {},
     "output_type": "execute_result"
    }
   ],
   "source": [
    "x=x+y #we again define x as we have to to replace there values \n",
    "x"
   ]
  },
  {
   "cell_type": "code",
   "execution_count": 87,
   "id": "4fead00f-ce50-4fa8-8c1b-6e3c057e61f4",
   "metadata": {},
   "outputs": [],
   "source": [
    "y = x - y \n",
    "x = x - y "
   ]
  },
  {
   "cell_type": "code",
   "execution_count": 88,
   "id": "5ee3bc46-1dca-4435-98fe-d215e230f759",
   "metadata": {},
   "outputs": [
    {
     "data": {
      "text/plain": [
       "5.0"
      ]
     },
     "execution_count": 88,
     "metadata": {},
     "output_type": "execute_result"
    }
   ],
   "source": [
    "x #here the value of x changes as we defines the value of x"
   ]
  },
  {
   "cell_type": "code",
   "execution_count": 89,
   "id": "2685eb8d-3a53-44e9-8e6c-45b7dc45ecbd",
   "metadata": {},
   "outputs": [
    {
     "data": {
      "text/plain": [
       "4.0"
      ]
     },
     "execution_count": 89,
     "metadata": {},
     "output_type": "execute_result"
    }
   ],
   "source": [
    "y #here value of y changes as we defines the value"
   ]
  },
  {
   "cell_type": "code",
   "execution_count": 21,
   "id": "54b7591f-fa87-4575-9f59-a15f0641a20b",
   "metadata": {},
   "outputs": [
    {
     "data": {
      "text/plain": [
       "'2. Create a program that calculates the area of a rectangle. Take the length and\\nwidth as inputs from the user and store them in variables. Calculate and\\ndisplay the area.'"
      ]
     },
     "execution_count": 21,
     "metadata": {},
     "output_type": "execute_result"
    }
   ],
   "source": [
    "'''Q-2. Create a program that calculates the area of a rectangle. Take the length and\n",
    "width as inputs from the user and store them in variables. Calculate and\n",
    "display the area.'''"
   ]
  },
  {
   "cell_type": "code",
   "execution_count": 31,
   "id": "072f6c6a-0de1-45ae-af6a-496cdf0adeef",
   "metadata": {},
   "outputs": [
    {
     "name": "stdin",
     "output_type": "stream",
     "text": [
      "Enter the length of the rectangle:  45\n",
      "Enter the width of the rectangle:  67\n"
     ]
    },
    {
     "name": "stdout",
     "output_type": "stream",
     "text": [
      "The area of the rectangle is: 3015.0\n"
     ]
    }
   ],
   "source": [
    "#here we stores the length and width in following \n",
    "length = float(input(\"Enter the length of the rectangle: \"))\n",
    "width = float(input(\"Enter the width of the rectangle: \"))\n",
    "#as we know the formula for are of rectangle so i define it in area\n",
    "area=length*width\n",
    "print(f\"The area of the rectangle is: {area}\")"
   ]
  },
  {
   "cell_type": "code",
   "execution_count": 26,
   "id": "6bf04b98-2b00-4d63-a737-47fa1bf344f7",
   "metadata": {},
   "outputs": [],
   "source": [
    "'''Q-Write a Python program that converts temperatures from Celsius to\n",
    "Fahrenheit. Take the temperature in Celsius as input, store it in a variable,\n",
    "convert it to Fahrenheit, and display the result.'''"
   ]
  },
  {
   "cell_type": "code",
   "execution_count": 33,
   "id": "1e1a1882-cbed-430f-a484-017b69b5a788",
   "metadata": {},
   "outputs": [
    {
     "name": "stdin",
     "output_type": "stream",
     "text": [
      "Enter the temperature in Celsius:  34\n"
     ]
    },
    {
     "name": "stdout",
     "output_type": "stream",
     "text": [
      "The temperature in Fahrenheit is: 93.2\n"
     ]
    }
   ],
   "source": [
    "# Function to convert Celsius to Fahrenheit\n",
    "celsius = float(input(\"Enter the temperature in Celsius: \"))\n",
    "celsius_to_fahrenheit= (celsius * 9/5) + 32\n",
    "\n",
    "\n",
    "# Converting to Fahrenheit\n",
    "fahrenheit = celsius_to_fahrenheit\n",
    "\n",
    "# Displaying the result\n",
    "print(f\"The temperature in Fahrenheit is: {fahrenheit}\")\n"
   ]
  },
  {
   "cell_type": "code",
   "execution_count": 90,
   "id": "11d44ce9-16b4-48a5-9ee8-e436af5d2ea6",
   "metadata": {},
   "outputs": [
    {
     "data": {
      "text/plain": [
       "'Q-1:1. Write a Python program that takes a string as input and prints the length of the string.'"
      ]
     },
     "execution_count": 90,
     "metadata": {},
     "output_type": "execute_result"
    }
   ],
   "source": [
    "#TOPIC: String Based Questions\n",
    "'''Q-1:1. Write a Python program that takes a string as input and prints the length of the string.'''"
   ]
  },
  {
   "cell_type": "code",
   "execution_count": 94,
   "id": "a96f6fcd-c2fc-4afa-a959-336de1a54acf",
   "metadata": {},
   "outputs": [
    {
     "name": "stdin",
     "output_type": "stream",
     "text": [
      "enter a string: here\n"
     ]
    },
    {
     "name": "stdout",
     "output_type": "stream",
     "text": [
      "The length of the string is: 4\n",
      "The length of the string is :4\n"
     ]
    }
   ],
   "source": [
    "#here we define x and taking input as string \n",
    "x=str(input(\"enter a string:\"))\n",
    "x\n",
    "y=len(x)#defining length of x \n",
    "y\n",
    "print(f\"The length of the string is: {y}\")\n",
    "#here we can do one more thing without defineing another variable as y \n",
    "#print(f\"The length of the string is :{len(x)}\")"
   ]
  },
  {
   "cell_type": "code",
   "execution_count": null,
   "id": "e12c6c19-9d35-404a-8447-0793db25357b",
   "metadata": {},
   "outputs": [],
   "source": [
    "'''Q-2:Create a program that takes a sentence from the user and counts the number\n",
    "of vowels (a, e, i, o, u) in the string.'''"
   ]
  },
  {
   "cell_type": "code",
   "execution_count": 61,
   "id": "ec61cbf6-463c-42c6-b561-b13aa8797bc2",
   "metadata": {},
   "outputs": [
    {
     "name": "stdin",
     "output_type": "stream",
     "text": [
      "Enter a sentence:  rfevzs\n"
     ]
    },
    {
     "name": "stdout",
     "output_type": "stream",
     "text": [
      "The number of vowels in the sentence is: 1\n"
     ]
    }
   ],
   "source": [
    "sentence = input(\"Enter a sentence: \")\n",
    "\n",
    "# Counting the number of vowels\n",
    "vowels = \"aeiouAEIOU\"\n",
    "vowel_count = sum(1 for char in sentence if char in vowels)\n",
    "\n",
    "# Displaying the result\n",
    "print(f\"The number of vowels in the sentence is: {vowel_count}\")\n"
   ]
  },
  {
   "cell_type": "code",
   "execution_count": 63,
   "id": "8aeb2d6b-b576-4c4e-8d13-4f3863cef4c3",
   "metadata": {},
   "outputs": [
    {
     "data": {
      "text/plain": [
       "'Q-3:Given a string, reverse the order of characters using string slicing and print\\nthe reversed string.'"
      ]
     },
     "execution_count": 63,
     "metadata": {},
     "output_type": "execute_result"
    }
   ],
   "source": [
    "'''Q-3:Given a string, reverse the order of characters using string slicing and print\n",
    "the reversed string.'''"
   ]
  },
  {
   "cell_type": "code",
   "execution_count": 64,
   "id": "1420e121-bfa7-4b57-8486-be787d0610a5",
   "metadata": {},
   "outputs": [
    {
     "name": "stdin",
     "output_type": "stream",
     "text": [
      "Enter a string:  hiii\n"
     ]
    },
    {
     "name": "stdout",
     "output_type": "stream",
     "text": [
      "The reversed string is: iiih\n"
     ]
    }
   ],
   "source": [
    "string = input(\"Enter a string: \")\n",
    "# Reversing the string using slicing\n",
    "reversed_string = string[::-1]\n",
    "# Displaying the reversed string\n",
    "print(f\"The reversed string is: {reversed_string}\")\n"
   ]
  },
  {
   "cell_type": "code",
   "execution_count": 65,
   "id": "89e5ca23-b273-47e2-ae69-21e71d4c3a27",
   "metadata": {},
   "outputs": [
    {
     "data": {
      "text/plain": [
       "'Q-4:Write a program that takes a string as input and checks if it is a palindrome\\n(reads the same forwards and backwards).'"
      ]
     },
     "execution_count": 65,
     "metadata": {},
     "output_type": "execute_result"
    }
   ],
   "source": [
    "'''Q-4:Write a program that takes a string as input and checks if it is a palindrome\n",
    "(reads the same forwards and backwards).'''"
   ]
  },
  {
   "cell_type": "code",
   "execution_count": 71,
   "id": "c15e7f5b-23df-4e86-9edb-9517fd9c8b54",
   "metadata": {},
   "outputs": [
    {
     "name": "stdin",
     "output_type": "stream",
     "text": [
      "Enter a string:  aka\n"
     ]
    },
    {
     "name": "stdout",
     "output_type": "stream",
     "text": [
      "The string 'aka' is a palindrome.\n"
     ]
    }
   ],
   "source": [
    "string = input(\"Enter a string: \")\n",
    "\n",
    "# Removing spaces and converting to lowercase for accurate comparison\n",
    "processed_string =string.replace(\" \", \"\").lower()\n",
    "processed_string\n",
    "# Checking if the string is a palindrome\n",
    "is_palindrome = processed_string == processed_string[::-1]\n",
    "is_palindrome\n",
    "\n",
    "if is_palindrome:\n",
    "    print(f\"The string '{string}' is a palindrome.\")\n",
    "else:\n",
    "    print(f\"The string '{tring}' is not a palindrome.\")\n"
   ]
  },
  {
   "cell_type": "code",
   "execution_count": 72,
   "id": "00844219-1305-444c-9b58-f8528d5cecf6",
   "metadata": {},
   "outputs": [
    {
     "data": {
      "text/plain": [
       "'Q-5:Create a program that takes a string as input and removes all the spaces from\\nit. Print the modified string without spaces.'"
      ]
     },
     "execution_count": 72,
     "metadata": {},
     "output_type": "execute_result"
    }
   ],
   "source": [
    "'''Q-5:Create a program that takes a string as input and removes all the spaces from\n",
    "it. Print the modified string without spaces.'''"
   ]
  },
  {
   "cell_type": "code",
   "execution_count": 74,
   "id": "d8fefcdd-5653-4865-9c66-2e584d4f475c",
   "metadata": {},
   "outputs": [
    {
     "name": "stdin",
     "output_type": "stream",
     "text": [
      "Enter a string:  here im going\n"
     ]
    },
    {
     "name": "stdout",
     "output_type": "stream",
     "text": [
      "The string without spaces is: 'hereimgoing'\n"
     ]
    }
   ],
   "source": [
    "#Output\n",
    "string = input(\"Enter a string: \")\n",
    "\n",
    "# Removing all spaces from the string\n",
    "modified_string = string.replace(\" \", \"\")\n",
    "\n",
    "# Displaying the modified string\n",
    "print(f\"The string without spaces is: '{modified_string}'\")\n"
   ]
  },
  {
   "cell_type": "code",
   "execution_count": null,
   "id": "d75b65bb-c5e1-46fe-9f72-3c235a13646d",
   "metadata": {},
   "outputs": [],
   "source": []
  },
  {
   "cell_type": "code",
   "execution_count": null,
   "id": "d3e7beea-4ad3-4460-94c6-a09c0b6c8475",
   "metadata": {},
   "outputs": [],
   "source": []
  }
 ],
 "metadata": {
  "kernelspec": {
   "display_name": "Python 3 (ipykernel)",
   "language": "python",
   "name": "python3"
  },
  "language_info": {
   "codemirror_mode": {
    "name": "ipython",
    "version": 3
   },
   "file_extension": ".py",
   "mimetype": "text/x-python",
   "name": "python",
   "nbconvert_exporter": "python",
   "pygments_lexer": "ipython3",
   "version": "3.10.8"
  }
 },
 "nbformat": 4,
 "nbformat_minor": 5
}
